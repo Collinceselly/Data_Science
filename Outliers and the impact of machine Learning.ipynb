{
 "cells": [
  {
   "cell_type": "markdown",
   "id": "559fa82c-530e-4ee1-b303-67877545a5f0",
   "metadata": {},
   "source": [
    "#### Discussion Related with Outliers and Impact on Machine Learning"
   ]
  },
  {
   "cell_type": "markdown",
   "id": "9e1847ee-b05e-46a8-8091-a40dd7c24452",
   "metadata": {},
   "source": [
    "#### Which MAchine Learning models are sensitive to Outliers?\n",
    "\n",
    "##### 1.Naive Bayes classifier ----- Not sensitive to outleirs\n",
    "##### 2. SVM ------ ---------------- Not sensitive to outleirs\n",
    "##### 3. Linear Regression --------- Sensitive to outliers\n",
    "##### 4. Logistic Regression ------- Sensitive to outliers\n",
    "##### 5. Decision Tree ------------- Not sensitive to outleirs\n",
    "##### 6. Random Forest ------------- Not sensitive to outleirs\n",
    "##### 7. K Nearest Neighbour(KNN) -- Not Sensitive to outliers\n",
    "##### 8. K-means ------------------- Sensitive to outleirs\n",
    "##### 9. Hierarical ---------------- Sensitive\n",
    "##### 10. PCA ---------------------- Sensitive\n",
    "##### 11. Neural Networks ---------- Sensitive"
   ]
  },
  {
   "cell_type": "code",
   "execution_count": 4,
   "id": "c3c0ea2d-ec98-4f9c-ba14-03fdbfc602c5",
   "metadata": {},
   "outputs": [],
   "source": [
    "import pandas as pd\n",
    "import numpy as np"
   ]
  },
  {
   "cell_type": "code",
   "execution_count": 6,
   "id": "b6c15d49-f3a8-4a89-aa45-23f562ea435d",
   "metadata": {},
   "outputs": [
    {
     "data": {
      "text/html": [
       "<div>\n",
       "<style scoped>\n",
       "    .dataframe tbody tr th:only-of-type {\n",
       "        vertical-align: middle;\n",
       "    }\n",
       "\n",
       "    .dataframe tbody tr th {\n",
       "        vertical-align: top;\n",
       "    }\n",
       "\n",
       "    .dataframe thead th {\n",
       "        text-align: right;\n",
       "    }\n",
       "</style>\n",
       "<table border=\"1\" class=\"dataframe\">\n",
       "  <thead>\n",
       "    <tr style=\"text-align: right;\">\n",
       "      <th></th>\n",
       "      <th>PassengerId</th>\n",
       "      <th>Survived</th>\n",
       "      <th>Pclass</th>\n",
       "      <th>Name</th>\n",
       "      <th>Sex</th>\n",
       "      <th>Age</th>\n",
       "      <th>SibSp</th>\n",
       "      <th>Parch</th>\n",
       "      <th>Ticket</th>\n",
       "      <th>Fare</th>\n",
       "      <th>Cabin</th>\n",
       "      <th>Embarked</th>\n",
       "    </tr>\n",
       "  </thead>\n",
       "  <tbody>\n",
       "    <tr>\n",
       "      <th>0</th>\n",
       "      <td>1</td>\n",
       "      <td>0</td>\n",
       "      <td>3</td>\n",
       "      <td>Braund, Mr. Owen Harris</td>\n",
       "      <td>male</td>\n",
       "      <td>22.0</td>\n",
       "      <td>1</td>\n",
       "      <td>0</td>\n",
       "      <td>A/5 21171</td>\n",
       "      <td>7.2500</td>\n",
       "      <td>NaN</td>\n",
       "      <td>S</td>\n",
       "    </tr>\n",
       "    <tr>\n",
       "      <th>1</th>\n",
       "      <td>2</td>\n",
       "      <td>1</td>\n",
       "      <td>1</td>\n",
       "      <td>Cumings, Mrs. John Bradley (Florence Briggs Th...</td>\n",
       "      <td>female</td>\n",
       "      <td>38.0</td>\n",
       "      <td>1</td>\n",
       "      <td>0</td>\n",
       "      <td>PC 17599</td>\n",
       "      <td>71.2833</td>\n",
       "      <td>C85</td>\n",
       "      <td>C</td>\n",
       "    </tr>\n",
       "    <tr>\n",
       "      <th>2</th>\n",
       "      <td>3</td>\n",
       "      <td>1</td>\n",
       "      <td>3</td>\n",
       "      <td>Heikkinen, Miss. Laina</td>\n",
       "      <td>female</td>\n",
       "      <td>26.0</td>\n",
       "      <td>0</td>\n",
       "      <td>0</td>\n",
       "      <td>STON/O2. 3101282</td>\n",
       "      <td>7.9250</td>\n",
       "      <td>NaN</td>\n",
       "      <td>S</td>\n",
       "    </tr>\n",
       "    <tr>\n",
       "      <th>3</th>\n",
       "      <td>4</td>\n",
       "      <td>1</td>\n",
       "      <td>1</td>\n",
       "      <td>Futrelle, Mrs. Jacques Heath (Lily May Peel)</td>\n",
       "      <td>female</td>\n",
       "      <td>35.0</td>\n",
       "      <td>1</td>\n",
       "      <td>0</td>\n",
       "      <td>113803</td>\n",
       "      <td>53.1000</td>\n",
       "      <td>C123</td>\n",
       "      <td>S</td>\n",
       "    </tr>\n",
       "    <tr>\n",
       "      <th>4</th>\n",
       "      <td>5</td>\n",
       "      <td>0</td>\n",
       "      <td>3</td>\n",
       "      <td>Allen, Mr. William Henry</td>\n",
       "      <td>male</td>\n",
       "      <td>35.0</td>\n",
       "      <td>0</td>\n",
       "      <td>0</td>\n",
       "      <td>373450</td>\n",
       "      <td>8.0500</td>\n",
       "      <td>NaN</td>\n",
       "      <td>S</td>\n",
       "    </tr>\n",
       "  </tbody>\n",
       "</table>\n",
       "</div>"
      ],
      "text/plain": [
       "   PassengerId  Survived  Pclass  \\\n",
       "0            1         0       3   \n",
       "1            2         1       1   \n",
       "2            3         1       3   \n",
       "3            4         1       1   \n",
       "4            5         0       3   \n",
       "\n",
       "                                                Name     Sex   Age  SibSp  \\\n",
       "0                            Braund, Mr. Owen Harris    male  22.0      1   \n",
       "1  Cumings, Mrs. John Bradley (Florence Briggs Th...  female  38.0      1   \n",
       "2                             Heikkinen, Miss. Laina  female  26.0      0   \n",
       "3       Futrelle, Mrs. Jacques Heath (Lily May Peel)  female  35.0      1   \n",
       "4                           Allen, Mr. William Henry    male  35.0      0   \n",
       "\n",
       "   Parch            Ticket     Fare Cabin Embarked  \n",
       "0      0         A/5 21171   7.2500   NaN        S  \n",
       "1      0          PC 17599  71.2833   C85        C  \n",
       "2      0  STON/O2. 3101282   7.9250   NaN        S  \n",
       "3      0            113803  53.1000  C123        S  \n",
       "4      0            373450   8.0500   NaN        S  "
      ]
     },
     "execution_count": 6,
     "metadata": {},
     "output_type": "execute_result"
    }
   ],
   "source": [
    "df=pd.read_csv('C:/Users/user/DATA_SCIENCE/Feature_Engineering/Datasets/Titanic/titanic.csv')\n",
    "df.head()"
   ]
  },
  {
   "cell_type": "code",
   "execution_count": 8,
   "id": "4ea1dad2-6825-43b6-a6e2-1c680034ed58",
   "metadata": {},
   "outputs": [
    {
     "data": {
      "text/plain": [
       "177"
      ]
     },
     "execution_count": 8,
     "metadata": {},
     "output_type": "execute_result"
    }
   ],
   "source": [
    "df.Age.isnull().sum()"
   ]
  },
  {
   "cell_type": "code",
   "execution_count": 10,
   "id": "697d4533-2f55-466e-96e4-7492874f0ac6",
   "metadata": {},
   "outputs": [],
   "source": [
    "import seaborn as sns"
   ]
  },
  {
   "cell_type": "code",
   "execution_count": 12,
   "id": "e1c778fb-de0f-4001-91bb-3900a0d11245",
   "metadata": {},
   "outputs": [
    {
     "data": {
      "text/plain": [
       "<seaborn.axisgrid.FacetGrid at 0x1c9aa23b4a0>"
      ]
     },
     "execution_count": 12,
     "metadata": {},
     "output_type": "execute_result"
    },
    {
     "data": {
      "image/png": "[encoded data removed]",
      "text/plain": [
       "<Figure size 500x500 with 1 Axes>"
      ]
     },
     "metadata": {},
     "output_type": "display_data"
    }
   ],
   "source": [
    "sns.displot(df['Age'].dropna())"
   ]
  },
  {
   "cell_type": "code",
   "execution_count": 14,
   "id": "8884bc3d-1e49-4f0b-9112-58e98f5c3577",
   "metadata": {},
   "outputs": [],
   "source": [
    "# No outliers in the data when null is dropped"
   ]
  },
  {
   "cell_type": "code",
   "execution_count": 16,
   "id": "b7c51e5c-862d-44bd-ac4f-b9d8c37b37a9",
   "metadata": {},
   "outputs": [
    {
     "data": {
      "text/plain": [
       "<seaborn.axisgrid.FacetGrid at 0x1c9aa43f440>"
      ]
     },
     "execution_count": 16,
     "metadata": {},
     "output_type": "execute_result"
    },
    {
     "data": {
      "image/png": "[encoded data removed]",
      "text/plain": [
       "<Figure size 500x500 with 1 Axes>"
      ]
     },
     "metadata": {},
     "output_type": "display_data"
    }
   ],
   "source": [
    "# Replace null values with an ambigous number eg 100\n",
    "\n",
    "sns.displot(df['Age'].fillna(100))"
   ]
  },
  {
   "cell_type": "code",
   "execution_count": null,
   "id": "47c8aa62-045d-496c-9585-fa98606f4f00",
   "metadata": {},
   "outputs": [],
   "source": [
    "# we have created outliers in the data because we have introduced 100"
   ]
  },
  {
   "cell_type": "markdown",
   "id": "ad7ca1e7-5ade-4ac8-b39e-31d5bee6ebcf",
   "metadata": {},
   "source": [
    "#### Guassian Distribution"
   ]
  },
  {
   "cell_type": "code",
   "execution_count": 24,
   "id": "804ede0e-2c95-4948-8941-1c83b0e4a53c",
   "metadata": {},
   "outputs": [
    {
     "data": {
      "text/plain": [
       "Text(0, 0.5, 'Number of passengers')"
      ]
     },
     "execution_count": 24,
     "metadata": {},
     "output_type": "execute_result"
    },
    {
     "data": {
      "image/png": "[encoded data removed]",
      "text/plain": [
       "<Figure size 640x480 with 1 Axes>"
      ]
     },
     "metadata": {},
     "output_type": "display_data"
    }
   ],
   "source": [
    "# Histogram\n",
    "\n",
    "figure = df.Age.hist(bins=50)\n",
    "figure.set_title('Age')\n",
    "figure.set_xlabel('Age')\n",
    "figure.set_ylabel('Number of passengers')"
   ]
  },
  {
   "cell_type": "code",
   "execution_count": 29,
   "id": "1904b754-f307-4f7f-aec7-84eceaef8e96",
   "metadata": {},
   "outputs": [
    {
     "data": {
      "image/png": "[encoded data removed]",
      "text/plain": [
       "<Figure size 640x480 with 1 Axes>"
      ]
     },
     "metadata": {},
     "output_type": "display_data"
    }
   ],
   "source": [
    "# In a guassian distributed data/normal distributed data, we use box plot to identify outliers\n",
    "\n",
    "figure=sns.boxplot(df.Age) # the dotted ones are the outliers"
   ]
  },
  {
   "cell_type": "code",
   "execution_count": 33,
   "id": "e0309f50-3658-42df-8a80-d594423528fe",
   "metadata": {},
   "outputs": [
    {
     "data": {
      "text/plain": [
       "29.69911764705882"
      ]
     },
     "execution_count": 33,
     "metadata": {},
     "output_type": "execute_result"
    }
   ],
   "source": [
    "# Assuming the features of age follows a guassian distribution, we will calculate the boundaries which differentiate the outliers\n",
    "\n",
    "df.Age.mean()"
   ]
  },
  {
   "cell_type": "markdown",
   "id": "ef3d0964-e621-4fad-874d-cbe26af1a056",
   "metadata": {},
   "source": [
    "#### If the data is normally distributed we use this"
   ]
  },
  {
   "cell_type": "code",
   "execution_count": 49,
   "id": "6c699764-21ea-4251-b61b-3456ee76841e",
   "metadata": {},
   "outputs": [
    {
     "name": "stdout",
     "output_type": "stream",
     "text": [
      "Upper Boundary is: 73.27860964406095\n",
      "Lower Bpundary is: -13.88037434994331\n",
      "Mean is: 29.69911764705882\n"
     ]
    }
   ],
   "source": [
    "upper_boundary = df['Age'].mean() + 3 * df['Age'].std()\n",
    "lower_boundary = df['Age'].mean() - 3 * df['Age'].std()\n",
    "print('Upper Boundary is:', upper_boundary)\n",
    "print('Lower Bpundary is:', lower_boundary)\n",
    "print('Mean is:', df.Age.mean())"
   ]
  },
  {
   "cell_type": "markdown",
   "id": "29dc3a86-0080-4a24-8dc0-d40d1b81b644",
   "metadata": {},
   "source": [
    "### Use this technique when the features are skewed"
   ]
  },
  {
   "cell_type": "code",
   "execution_count": 53,
   "id": "65e2b5c8-107d-403a-a3e0-9ec670cb024b",
   "metadata": {},
   "outputs": [],
   "source": [
    "# Computing the inter-Quartile range to calculate the boundary\n",
    "IQR = df.Age.quantile(0.75) - df.Age.quantile(0.25)"
   ]
  },
  {
   "cell_type": "code",
   "execution_count": 55,
   "id": "86ea4d13-10ac-4c3b-984d-0ffad9fa7c08",
   "metadata": {},
   "outputs": [
    {
     "data": {
      "text/plain": [
       "17.875"
      ]
     },
     "execution_count": 55,
     "metadata": {},
     "output_type": "execute_result"
    }
   ],
   "source": [
    "IQR"
   ]
  },
  {
   "cell_type": "code",
   "execution_count": 88,
   "id": "5db0140d-31a9-44b1-a12d-2a9efd7726f9",
   "metadata": {},
   "outputs": [],
   "source": [
    "# Apply this technique when the data is normally distributed\n",
    "\n",
    "lower_bridge = df['Age'].quantile(0.25)-(IQR*1.5)\n",
    "upper_bridge = df['Age'].quantile(0.75)+(IQR*1.5)"
   ]
  },
  {
   "cell_type": "code",
   "execution_count": 61,
   "id": "6f172c17-4421-4480-9907-ca4494509c6e",
   "metadata": {},
   "outputs": [
    {
     "name": "stdout",
     "output_type": "stream",
     "text": [
      "Lower bridge is:  -6.6875\n",
      "Upper bridge is:  64.8125\n"
     ]
    }
   ],
   "source": [
    "print('Lower bridge is: ', lower_bridge)\n",
    "print('Upper bridge is: ', upper_bridge)"
   ]
  },
  {
   "cell_type": "code",
   "execution_count": 63,
   "id": "dabf4f95-2636-4860-98d3-b190d19df305",
   "metadata": {},
   "outputs": [],
   "source": [
    "#with respect to extreme outliers multiply IQR by 3\n",
    "\n",
    "lower_bridge = df['Age'].quantile(0.25)-(IQR*3)\n",
    "upper_bridge = df['Age'].quantile(0.75)+(IQR*3)"
   ]
  },
  {
   "cell_type": "code",
   "execution_count": 65,
   "id": "9ce92219-bf98-4e30-a523-c7f346e055e6",
   "metadata": {},
   "outputs": [
    {
     "name": "stdout",
     "output_type": "stream",
     "text": [
      "Lower bridge is:  -33.5\n",
      "Upper bridge is:  91.625\n"
     ]
    }
   ],
   "source": [
    "print('Lower bridge is: ', lower_bridge)\n",
    "print('Upper bridge is: ', upper_bridge)"
   ]
  },
  {
   "cell_type": "markdown",
   "id": "de0a50bd-989b-4d2e-a350-238f7eb85ec8",
   "metadata": {},
   "source": [
    "### Skewed features"
   ]
  },
  {
   "cell_type": "code",
   "execution_count": 72,
   "id": "65a85a7d-ecdc-4e47-9fc5-8b0ed3619087",
   "metadata": {},
   "outputs": [
    {
     "data": {
      "text/plain": [
       "Text(0, 0.5, 'Number of passengers')"
      ]
     },
     "execution_count": 72,
     "metadata": {},
     "output_type": "execute_result"
    },
    {
     "data": {
      "image/png": "[encoded data removed]",
      "text/plain": [
       "<Figure size 640x480 with 1 Axes>"
      ]
     },
     "metadata": {},
     "output_type": "display_data"
    }
   ],
   "source": [
    "# Performing the calculation for column fare where the feature is skewed\n",
    "# Histogram\n",
    "\n",
    "figure = df.Fare.hist(bins=50)\n",
    "figure.set_title('Fare')\n",
    "figure.set_xlabel('Fare')\n",
    "figure.set_ylabel('Number of passengers')"
   ]
  },
  {
   "cell_type": "code",
   "execution_count": 74,
   "id": "255c969b-18cc-451b-ad3d-8a9a275d41eb",
   "metadata": {},
   "outputs": [
    {
     "data": {
      "image/png": "[encoded data removed]",
      "text/plain": [
       "<Figure size 640x480 with 1 Axes>"
      ]
     },
     "metadata": {},
     "output_type": "display_data"
    }
   ],
   "source": [
    "figure=sns.boxplot(df.Fare) # Huge amount of outliers"
   ]
  },
  {
   "cell_type": "code",
   "execution_count": 76,
   "id": "a7e04b2b-ff9f-4adb-82c6-698efc4c0b94",
   "metadata": {},
   "outputs": [
    {
     "data": {
      "text/plain": [
       "count    891.000000\n",
       "mean      32.204208\n",
       "std       49.693429\n",
       "min        0.000000\n",
       "25%        7.910400\n",
       "50%       14.454200\n",
       "75%       31.000000\n",
       "max      512.329200\n",
       "Name: Fare, dtype: float64"
      ]
     },
     "execution_count": 76,
     "metadata": {},
     "output_type": "execute_result"
    }
   ],
   "source": [
    "df.Fare.describe()"
   ]
  },
  {
   "cell_type": "code",
   "execution_count": 78,
   "id": "1f03049f-3863-451d-a8c6-60b7ae28d734",
   "metadata": {},
   "outputs": [],
   "source": [
    "#Performing the IQR\n",
    "\n",
    "IQR = df.Fare.quantile(0.75) - df.Fare.quantile(0.25)"
   ]
  },
  {
   "cell_type": "code",
   "execution_count": 80,
   "id": "ff1c5c48-9717-45fc-9494-a1ec43b97248",
   "metadata": {},
   "outputs": [],
   "source": [
    "lower_bridge = df['Fare'].quantile(0.25)-(IQR*1.5)\n",
    "upper_bridge = df['Fare'].quantile(0.75)+(IQR*1.5)"
   ]
  },
  {
   "cell_type": "code",
   "execution_count": 82,
   "id": "d100d8cf-c965-4ae1-8ef4-93b9bbdec833",
   "metadata": {},
   "outputs": [
    {
     "name": "stdout",
     "output_type": "stream",
     "text": [
      "Lower bridge is:  -26.724\n",
      "Upper bridge is:  65.6344\n"
     ]
    }
   ],
   "source": [
    "print('Lower bridge is: ', lower_bridge)\n",
    "print('Upper bridge is: ', upper_bridge)"
   ]
  },
  {
   "cell_type": "code",
   "execution_count": 90,
   "id": "e05fc7ee-7c99-4149-b60b-f94310acb15f",
   "metadata": {},
   "outputs": [],
   "source": [
    "# Apply this technique when the data is skewed, both righ and left\n",
    "\n",
    "lower_bridge = df['Fare'].quantile(0.25)-(IQR*3)\n",
    "upper_bridge = df['Fare'].quantile(0.75)+(IQR*3)"
   ]
  },
  {
   "cell_type": "code",
   "execution_count": 86,
   "id": "81556789-d9ec-4dc8-9374-7090d3d2120e",
   "metadata": {},
   "outputs": [
    {
     "name": "stdout",
     "output_type": "stream",
     "text": [
      "Lower bridge is:  -61.358399999999996\n",
      "Upper bridge is:  100.2688\n"
     ]
    }
   ],
   "source": [
    "print('Lower bridge is: ', lower_bridge)\n",
    "print('Upper bridge is: ', upper_bridge)"
   ]
  },
  {
   "cell_type": "code",
   "execution_count": 98,
   "id": "e50a1451-d354-49cb-b2e8-dc426f4a473f",
   "metadata": {},
   "outputs": [],
   "source": [
    "data=df.copy()"
   ]
  },
  {
   "cell_type": "markdown",
   "id": "09eca229-0019-4fe4-88e0-fb743555cb05",
   "metadata": {},
   "source": [
    "#### Since age is normally distributed, to deal with the outliers, using the above technique, \n",
    "#### whenever the age value is equals 73 or greater, we replace it with 73"
   ]
  },
  {
   "cell_type": "code",
   "execution_count": 115,
   "id": "05d47625-7977-4f13-badf-8bc0a12dd671",
   "metadata": {},
   "outputs": [],
   "source": [
    "data.loc[data['Age']>=73,'Age']=73"
   ]
  },
  {
   "cell_type": "code",
   "execution_count": 128,
   "id": "73903ddd-7255-4380-be49-afb9b3fcf1e1",
   "metadata": {},
   "outputs": [
    {
     "data": {
      "text/plain": [
       "Text(0, 0.5, 'Number of passengers')"
      ]
     },
     "execution_count": 128,
     "metadata": {},
     "output_type": "execute_result"
    },
    {
     "data": {
      "image/png": "[encoded data removed]",
      "text/plain": [
       "<Figure size 640x480 with 1 Axes>"
      ]
     },
     "metadata": {},
     "output_type": "display_data"
    }
   ],
   "source": [
    "figure = data.Age.hist(bins=50)\n",
    "figure.set_title('Age')\n",
    "figure.set_xlabel('Age')\n",
    "figure.set_ylabel('Number of passengers')"
   ]
  },
  {
   "cell_type": "markdown",
   "id": "99a6ec0e-b022-4106-bac9-f4e78ea41a14",
   "metadata": {},
   "source": [
    "#### Since Fare is skewed, to deal with the outliers, using the above technique, \n",
    "#### whenever the fare value is equals 100 or greater, we replace it with 100"
   ]
  },
  {
   "cell_type": "code",
   "execution_count": 120,
   "id": "8770d12c-4264-43f2-897e-9b3aff803f23",
   "metadata": {},
   "outputs": [],
   "source": [
    "data.loc[data['Fare']>=100, 'Fare']=100"
   ]
  },
  {
   "cell_type": "code",
   "execution_count": 126,
   "id": "5f1a5a6b-17bd-427f-84b3-173c4da81df0",
   "metadata": {},
   "outputs": [
    {
     "data": {
      "text/plain": [
       "Text(0, 0.5, 'Number of passengers')"
      ]
     },
     "execution_count": 126,
     "metadata": {},
     "output_type": "execute_result"
    },
    {
     "data": {
      "image/png": "[encoded data removed]",
      "text/plain": [
       "<Figure size 640x480 with 1 Axes>"
      ]
     },
     "metadata": {},
     "output_type": "display_data"
    }
   ],
   "source": [
    "figure = data.Fare.hist(bins=50)\n",
    "figure.set_title('Fare')\n",
    "figure.set_xlabel('Fare')\n",
    "figure.set_ylabel('Number of passengers')"
   ]
  },
  {
   "cell_type": "code",
   "execution_count": 131,
   "id": "7a52ffd0-8c82-4d78-a2a3-ff3dbc840ab3",
   "metadata": {},
   "outputs": [],
   "source": [
    "from sklearn.model_selection import train_test_split\n",
    "\n",
    "X_train,X_test,y_train,y_test=train_test_split(data[['Age','Fare']].fillna(0),data['Survived'],test_size=0.3)"
   ]
  },
  {
   "cell_type": "code",
   "execution_count": 147,
   "id": "ff62eab2-cbd9-4907-88da-4411c61a631f",
   "metadata": {},
   "outputs": [
    {
     "name": "stdout",
     "output_type": "stream",
     "text": [
      "Accuracy Score 0.6716417910447762\n",
      "Roc Score 0.6704760217339947\n"
     ]
    }
   ],
   "source": [
    "### Logistic regression\n",
    "\n",
    "from sklearn.linear_model import LogisticRegression\n",
    "classifier = LogisticRegression()\n",
    "classifier.fit(X_train,y_train)\n",
    "y_pred=classifier.predict(X_test)\n",
    "y_pred1=classifier.predict_proba(X_test)\n",
    "\n",
    "from sklearn.metrics import accuracy_score,roc_auc_score\n",
    "print('Accuracy Score {}'.format(accuracy_score(y_test,y_pred)))\n",
    "print('Roc Score {}'.format(roc_auc_score(y_test,y_pred1[:,1])))"
   ]
  },
  {
   "cell_type": "code",
   "execution_count": 149,
   "id": "b78f58cb-b8fe-41e4-87fe-64dcb3a4f13c",
   "metadata": {},
   "outputs": [
    {
     "name": "stdout",
     "output_type": "stream",
     "text": [
      "Accuracy Score 0.6529850746268657\n",
      "Roc Score 0.7003602645877629\n"
     ]
    }
   ],
   "source": [
    "#RandomForesr\n",
    "\n",
    "from sklearn.ensemble import RandomForestClassifier\n",
    "classifier = RandomForestClassifier()\n",
    "classifier.fit(X_train,y_train)\n",
    "y_pred=classifier.predict(X_test)\n",
    "y_pred1=classifier.predict_proba(X_test)\n",
    "\n",
    "from sklearn.metrics import accuracy_score,roc_auc_score\n",
    "print('Accuracy Score {}'.format(accuracy_score(y_test,y_pred)))\n",
    "print('Roc Score {}'.format(roc_auc_score(y_test,y_pred1[:,1])))"
   ]
  },
  {
   "cell_type": "code",
   "execution_count": null,
   "id": "cb6572ea-be75-4231-979a-f0336ac3c197",
   "metadata": {},
   "outputs": [],
   "source": []
  }
 ],
 "metadata": {
  "kernelspec": {
   "display_name": "Python 3 (ipykernel)",
   "language": "python",
   "name": "python3"
  },
  "language_info": {
   "codemirror_mode": {
    "name": "ipython",
    "version": 3
   },
   "file_extension": ".py",
   "mimetype": "text/x-python",
   "name": "python",
   "nbconvert_exporter": "python",
   "pygments_lexer": "ipython3",
   "version": "3.12.4"
  }
 },
 "nbformat": 4,
 "nbformat_minor": 5
}
